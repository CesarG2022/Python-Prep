{
 "cells": [
  {
   "cell_type": "code",
   "execution_count": 1,
   "metadata": {},
   "outputs": [
    {
     "name": "stdout",
     "output_type": "stream",
     "text": [
      "['c:\\\\Users\\\\jcgut\\\\Desktop\\\\Python-Prep\\\\08 - Error Handling\\\\.ipynb_checkpoints', 'c:\\\\Python310\\\\python310.zip', 'c:\\\\Python310\\\\DLLs', 'c:\\\\Python310\\\\lib', 'c:\\\\Python310', '', 'c:\\\\Python310\\\\lib\\\\site-packages', 'c:\\\\Python310\\\\lib\\\\site-packages\\\\win32', 'c:\\\\Python310\\\\lib\\\\site-packages\\\\win32\\\\lib', 'c:\\\\Python310\\\\lib\\\\site-packages\\\\Pythonwin', '/C:/Users/jcgut/Desktop/Python-Prep/07 - Classes & OOP/herramientas_c7.py']\n",
      "['In', 'Out', '_', '__', '___', '__builtin__', '__builtins__', '__doc__', '__loader__', '__name__', '__package__', '__spec__', '__vsc_ipynb_file__', '_dh', '_i', '_i1', '_ih', '_ii', '_iii', '_oh', 'exit', 'get_ipython', 'os', 'quit', 'sys']\n"
     ]
    }
   ],
   "source": [
    "import sys\n",
    "sys.path.append(r'/C:/Users/jcgut/Desktop/Python-Prep/07 - Classes & OOP/herramientas_c7.py')\n",
    "print(sys.path)\n",
    "print(dir())\n"
   ]
  },
  {
   "cell_type": "code",
   "execution_count": 2,
   "metadata": {},
   "outputs": [
    {
     "name": "stdout",
     "output_type": "stream",
     "text": [
      "['In', 'Out', '_', '__', '___', '__builtin__', '__builtins__', '__doc__', '__loader__', '__name__', '__package__', '__spec__', '__vsc_ipynb_file__', '_dh', '_i', '_i1', '_i2', '_ih', '_ii', '_iii', '_oh', 'exit', 'get_ipython', 'h', 'os', 'quit', 'sys']\n"
     ]
    }
   ],
   "source": [
    "import herramientas_c7 as h\n",
    "print(dir())"
   ]
  },
  {
   "cell_type": "code",
   "execution_count": 2,
   "metadata": {},
   "outputs": [],
   "source": [
    "inst_1 = h.Herramientas([3,1,1,2,2,2,2])"
   ]
  },
  {
   "cell_type": "code",
   "execution_count": 3,
   "metadata": {},
   "outputs": [
    {
     "name": "stdout",
     "output_type": "stream",
     "text": [
      "El factorial de  3 es 6\n",
      "El factorial de  1 es 1\n",
      "El factorial de  1 es 1\n",
      "El factorial de  2 es 2\n",
      "El factorial de  2 es 2\n",
      "El factorial de  2 es 2\n",
      "El factorial de  2 es 2\n",
      "2 4\n",
      "El elemento 1 SI es un numero primo\n",
      "El elemento 1 SI es un numero primo\n",
      "El elemento 2 SI es un numero primo\n",
      "El elemento 2 SI es un numero primo\n",
      "El elemento 2 SI es un numero primo\n",
      "El elemento 2 SI es un numero primo\n",
      "El elemento 3 SI es un numero primo\n",
      "1 grados celsius son 33.8 grados farenheit\n",
      "1 grados celsius son 33.8 grados farenheit\n",
      "2 grados celsius son 35.6 grados farenheit\n",
      "2 grados celsius son 35.6 grados farenheit\n",
      "2 grados celsius son 35.6 grados farenheit\n",
      "2 grados celsius son 35.6 grados farenheit\n",
      "3 grados celsius son 37.4 grados farenheit\n"
     ]
    }
   ],
   "source": [
    "inst_1.factorial()\n",
    "a,b=inst_1.valor_modal(True)\n",
    "print(a,b)\n",
    "inst_1.verifica_primo()\n",
    "inst_1.conversion_grados('celsius','farenheit')\n"
   ]
  },
  {
   "cell_type": "code",
   "execution_count": null,
   "metadata": {},
   "outputs": [],
   "source": [
    "inst_2=Herramientas([1,2,3,4,5,6,0,1,1,9,2,2])\n",
    "#inst_2.factorial()\n",
    "a,b=inst_2.valor_modal(True)\n",
    "print(a,b)\n",
    "#inst_2.verifica_primo()\n",
    "inst_2.conversion_grados('celsius','farenheit')\n",
    "\n",
    "''' \n",
    "1-cuando se utiliza float en la lista no sirve la funcion verifica_primo, por error en ciclo for\n",
    "TypeError: 'float' object cannot be interpreted as an integer\n",
    "\n",
    "2- cuando se utiliza string dentro de la lista  no sirve error modal: \n",
    "(TypeError: '<' not supported between instances of 'str' and 'int')\n",
    " - tampoco funciona verifica_primo :(TypeError: 'str' object cannot be interpreted as an integer)\n",
    " - tampoco funciona conversion_grados :(TypeError: unsupported operand type(s) for /: 'str' and 'int')\n",
    "\n",
    "3- cuando se envian nuemros <0 en la lista no arroja error de ejecución pero si error de programación \n",
    "ya que la verifica_primo arroja \"El elemento -2 SI es un numero primo\"\n",
    "\n",
    "4- cuando envio tupla la funcion valor modal no funciona:\n",
    "(AttributeError: 'tuple' object has no attribute 'sort')\n",
    "\n",
    "5- cuando se envia 0 dentro de la lista no hay error de compilación pero si error de programación\n",
    "ya que la funcion factorial arroja \"El factorial de  0 es 0\" y la funcion verifica arroja :\n",
    "\"El elemento 0 SI es un numero primo\"\n",
    "\n",
    "\n",
    "\n",
    "\n",
    "'''\n"
   ]
  },
  {
   "cell_type": "code",
   "execution_count": 3,
   "metadata": {},
   "outputs": [],
   "source": [
    "import unittest"
   ]
  },
  {
   "cell_type": "code",
   "execution_count": 4,
   "metadata": {},
   "outputs": [],
   "source": [
    "\n",
    "\n",
    "class ProbandoHerramientas(unittest.TestCase):\n",
    "    \n",
    "    def test_parametro_incorrecta(self):\n",
    "        parametro =\"hola\"\n",
    "        self.assertRaises(ValueError, h.Herramientas , parametro)\n",
    "    \n",
    "    def test_creacion_correcta(self):\n",
    "        parametro=[1,3,5,7,2,4,6,5,4,3,2,1]\n",
    "        inst_prueba=h.Herramientas(parametro)\n",
    "        self.assertEqual(inst_prueba.lista , parametro)\n",
    "\n",
    "    def test_valor_modal(self):\n",
    "        parametro=[1,3,5,7,9,4,6,8,9,2,9]\n",
    "        inst_prueba=h.Herramientas(parametro)\n",
    "        moda , veces= inst_prueba.valor_modal(False)\n",
    "        res_moda=9\n",
    "        res_veces=3\n",
    "        self.assertEqual(moda,res_moda)\n",
    "        self.assertEqual(veces, res_veces)\n",
    "    \n",
    "    \n",
    "      "
   ]
  },
  {
   "cell_type": "code",
   "execution_count": 5,
   "metadata": {},
   "outputs": [
    {
     "name": "stderr",
     "output_type": "stream",
     "text": [
      "test_creacion_correcta (__main__.ProbandoHerramientas) ... ok\n",
      "test_parametro_incorrecta (__main__.ProbandoHerramientas) ... ok\n",
      "test_valor_modal (__main__.ProbandoHerramientas) ... ok\n",
      "\n",
      "----------------------------------------------------------------------\n",
      "Ran 3 tests in 0.012s\n",
      "\n",
      "OK\n"
     ]
    },
    {
     "data": {
      "text/plain": [
       "<unittest.main.TestProgram at 0x1a4e5f3ffd0>"
      ]
     },
     "execution_count": 5,
     "metadata": {},
     "output_type": "execute_result"
    }
   ],
   "source": [
    "unittest.main(argv=[''], verbosity=2, exit=False)"
   ]
  },
  {
   "cell_type": "code",
   "execution_count": 6,
   "metadata": {},
   "outputs": [
    {
     "ename": "ValueError",
     "evalue": "el argumento ha sido rechazado porque no es una lista",
     "output_type": "error",
     "traceback": [
      "\u001b[1;31m---------------------------------------------------------------------------\u001b[0m",
      "\u001b[1;31mValueError\u001b[0m                                Traceback (most recent call last)",
      "\u001b[1;32mc:\\Users\\jcgut\\Desktop\\Python-Prep\\08 - Error Handling\\.ipynb_checkpoints\\my_homework_8.ipynb Cell 9'\u001b[0m in \u001b[0;36m<cell line: 1>\u001b[1;34m()\u001b[0m\n\u001b[1;32m----> <a href='vscode-notebook-cell:/c%3A/Users/jcgut/Desktop/Python-Prep/08%20-%20Error%20Handling/.ipynb_checkpoints/my_homework_8.ipynb#ch0000008?line=0'>1</a>\u001b[0m inst_4\u001b[39m=\u001b[39mh\u001b[39m.\u001b[39;49mHerramientas(\u001b[39m\"\u001b[39;49m\u001b[39mhola\u001b[39;49m\u001b[39m\"\u001b[39;49m)\n",
      "File \u001b[1;32mc:\\Users\\jcgut\\Desktop\\Python-Prep\\08 - Error Handling\\.ipynb_checkpoints\\herramientas_c7.py:6\u001b[0m, in \u001b[0;36mHerramientas.__init__\u001b[1;34m(self, lista_numeros)\u001b[0m\n\u001b[0;32m      4\u001b[0m \u001b[39mif\u001b[39;00m \u001b[39mtype\u001b[39m(lista_numeros)\u001b[39m!=\u001b[39m \u001b[39mlist\u001b[39m :\n\u001b[0;32m      5\u001b[0m     \u001b[39mself\u001b[39m\u001b[39m.\u001b[39mlista\u001b[39m=\u001b[39m[]\n\u001b[1;32m----> 6\u001b[0m     \u001b[39mraise\u001b[39;00m \u001b[39mValueError\u001b[39;00m(\u001b[39m'\u001b[39m\u001b[39mel argumento ha sido rechazado porque no es una lista\u001b[39m\u001b[39m'\u001b[39m)\n\u001b[0;32m      7\u001b[0m \u001b[39melse\u001b[39;00m:\n\u001b[0;32m      8\u001b[0m     \u001b[39mself\u001b[39m\u001b[39m.\u001b[39mlista \u001b[39m=\u001b[39m lista_numeros\n",
      "\u001b[1;31mValueError\u001b[0m: el argumento ha sido rechazado porque no es una lista"
     ]
    }
   ],
   "source": [
    "inst_4=h.Herramientas(\"hola\")"
   ]
  },
  {
   "cell_type": "code",
   "execution_count": 22,
   "metadata": {},
   "outputs": [
    {
     "data": {
      "text/plain": [
       "<module 'herramientas_c7' from 'c:\\\\Users\\\\jcgut\\\\Desktop\\\\Python-Prep\\\\08 - Error Handling\\\\.ipynb_checkpoints\\\\herramientas_c7.py'>"
      ]
     },
     "execution_count": 22,
     "metadata": {},
     "output_type": "execute_result"
    }
   ],
   "source": [
    "import importlib\n",
    "importlib.reload(h)"
   ]
  },
  {
   "cell_type": "code",
   "execution_count": 25,
   "metadata": {},
   "outputs": [],
   "source": [
    "class Probando_primos(unittest.TestCase):\n",
    "    def test_verifica_primo(self):\n",
    "        parametro=[7,2,5,6,10,11]\n",
    "        inst_prueba= h.Herramientas(parametro)\n",
    "                \n",
    "        self.assertEqual(inst_prueba.verifica_primo(),[True,True,True,False,False,True])"
   ]
  },
  {
   "cell_type": "code",
   "execution_count": 27,
   "metadata": {},
   "outputs": [
    {
     "name": "stderr",
     "output_type": "stream",
     "text": [
      "test_creacion_correcta (__main__.ProbandoHerramientas) ... ok\n",
      "test_parametro_incorrecta (__main__.ProbandoHerramientas) ... ok\n",
      "test_valor_modal (__main__.ProbandoHerramientas) ... ok\n",
      "test_verifica_primo (__main__.Probando_primos) ... ok\n",
      "\n",
      "----------------------------------------------------------------------\n",
      "Ran 4 tests in 0.020s\n",
      "\n",
      "OK\n"
     ]
    },
    {
     "name": "stdout",
     "output_type": "stream",
     "text": [
      "[True, True, True, False, False, True]\n"
     ]
    },
    {
     "data": {
      "text/plain": [
       "<unittest.main.TestProgram at 0x1a4e6066800>"
      ]
     },
     "execution_count": 27,
     "metadata": {},
     "output_type": "execute_result"
    }
   ],
   "source": [
    "unittest.main(argv=[''], verbosity=2, exit=False)"
   ]
  },
  {
   "cell_type": "code",
   "execution_count": 33,
   "metadata": {},
   "outputs": [
    {
     "data": {
      "text/plain": [
       "<module 'herramientas_c7' from 'c:\\\\Users\\\\jcgut\\\\Desktop\\\\Python-Prep\\\\08 - Error Handling\\\\.ipynb_checkpoints\\\\herramientas_c7.py'>"
      ]
     },
     "execution_count": 33,
     "metadata": {},
     "output_type": "execute_result"
    }
   ],
   "source": [
    "importlib.reload(h)"
   ]
  },
  {
   "cell_type": "code",
   "execution_count": 43,
   "metadata": {},
   "outputs": [],
   "source": [
    "class Prueba_conver_temp(unittest.TestCase):\n",
    "    def test_conver_temp(self):\n",
    "\n",
    "        inst_prueba=h.Herramientas([1,2,3,4,5,6])\n",
    "        \n",
    "        self.assertRaises(ValueError,inst_prueba.conversion_grados,\"kelvin\",\"celius\")\n"
   ]
  },
  {
   "cell_type": "code",
   "execution_count": 30,
   "metadata": {},
   "outputs": [],
   "source": [
    "class Prueba_factorial(unittest.TestCase):\n",
    "    def test_factorial(self):\n",
    "        parametro=[2,1,3,5,4,6]\n",
    "        inst_prueba=h.Herramientas(parametro)\n",
    "\n",
    "        self.assertEqual( inst_prueba.factorial(), [2,1,6,120,24,720] )"
   ]
  },
  {
   "cell_type": "code",
   "execution_count": 44,
   "metadata": {},
   "outputs": [
    {
     "name": "stderr",
     "output_type": "stream",
     "text": [
      "test_creacion_correcta (__main__.ProbandoHerramientas) ... ok\n",
      "test_parametro_incorrecta (__main__.ProbandoHerramientas) ... ok\n",
      "test_valor_modal (__main__.ProbandoHerramientas) ... ok\n",
      "test_verifica_primo (__main__.Probando_primos) ... ok\n",
      "test_conver_temp (__main__.Prueba_conver_temp) ... ok\n",
      "test_factorial (__main__.Prueba_factorial) ... ok\n",
      "\n",
      "----------------------------------------------------------------------\n",
      "Ran 6 tests in 0.040s\n",
      "\n",
      "OK\n"
     ]
    },
    {
     "data": {
      "text/plain": [
       "<unittest.main.TestProgram at 0x1a4e6062b30>"
      ]
     },
     "execution_count": 44,
     "metadata": {},
     "output_type": "execute_result"
    }
   ],
   "source": [
    "unittest.main(argv=[''], verbosity=2, exit=False)"
   ]
  },
  {
   "cell_type": "code",
   "execution_count": 50,
   "metadata": {},
   "outputs": [
    {
     "data": {
      "text/plain": [
       "120"
      ]
     },
     "execution_count": 50,
     "metadata": {},
     "output_type": "execute_result"
    }
   ],
   "source": [
    "\n",
    "\n"
   ]
  }
 ],
 "metadata": {
  "kernelspec": {
   "display_name": "Python 3.10.5 64-bit",
   "language": "python",
   "name": "python3"
  },
  "language_info": {
   "codemirror_mode": {
    "name": "ipython",
    "version": 3
   },
   "file_extension": ".py",
   "mimetype": "text/x-python",
   "name": "python",
   "nbconvert_exporter": "python",
   "pygments_lexer": "ipython3",
   "version": "3.10.5"
  },
  "orig_nbformat": 4,
  "vscode": {
   "interpreter": {
    "hash": "369f2c481f4da34e4445cda3fffd2e751bd1c4d706f27375911949ba6bb62e1c"
   }
  }
 },
 "nbformat": 4,
 "nbformat_minor": 2
}
