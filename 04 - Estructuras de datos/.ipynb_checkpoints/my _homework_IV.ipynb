{
 "cells": [
  {
   "cell_type": "code",
   "execution_count": 128,
   "metadata": {},
   "outputs": [
    {
     "name": "stdout",
     "output_type": "stream",
     "text": [
      "['Cúcuta', 'Tabatinga', 'San Cristobal', 'Leticia', 'Santa Marta', 'Bucaramanga']\n",
      "Tabatinga\n",
      "['Tabatinga', 'San Cristobal', 'Leticia']\n",
      "<class 'list'>\n",
      "['San Cristobal', 'Leticia', 'Santa Marta', 'Bucaramanga']\n",
      "['Cúcuta', 'Tabatinga', 'San Cristobal', 'Leticia']\n"
     ]
    }
   ],
   "source": [
    "# ejercicios del 1 al 6 \n",
    "nom_ciudades=[\"Cúcuta\",\"Tabatinga\",\"San Cristobal\", \"Leticia\", \"Santa Marta\", \"Bucaramanga\"]\n",
    "print(nom_ciudades)\n",
    "print(nom_ciudades[1])\n",
    "print(nom_ciudades[1:4])\n",
    "print(type(nom_ciudades))\n",
    "print(nom_ciudades[2:])\n",
    "print(nom_ciudades[:4])"
   ]
  },
  {
   "cell_type": "code",
   "execution_count": 129,
   "metadata": {},
   "outputs": [
    {
     "name": "stdout",
     "output_type": "stream",
     "text": [
      "['Cúcuta', 'Tabatinga', 'San Cristobal', 'Leticia', 'Santa Marta', 'Bucaramanga', 'cali', 'Cúcuta']\n"
     ]
    }
   ],
   "source": [
    "nom_ciudades.append(\"cali\")\n",
    "nom_ciudades.append(\"Cúcuta\")\n",
    "print(nom_ciudades)\n",
    "\n"
   ]
  },
  {
   "cell_type": "code",
   "execution_count": 130,
   "metadata": {},
   "outputs": [
    {
     "name": "stdout",
     "output_type": "stream",
     "text": [
      "['Cúcuta', 'Tabatinga', 'San Cristobal', 'valledupar', 'Leticia', 'Santa Marta', 'Bucaramanga', 'cali', 'Cúcuta']\n"
     ]
    }
   ],
   "source": [
    "nom_ciudades.insert(3,\"valledupar\")\n",
    "print(nom_ciudades)\n"
   ]
  },
  {
   "cell_type": "code",
   "execution_count": 131,
   "metadata": {},
   "outputs": [
    {
     "name": "stdout",
     "output_type": "stream",
     "text": [
      "['Cúcuta', 'Tabatinga', 'San Cristobal', 'valledupar', 'Leticia', 'Santa Marta', 'Bucaramanga', 'cali', 'Cúcuta', 1990, 2006, 2008]\n"
     ]
    }
   ],
   "source": [
    "año=[1990,2006,2008]\n",
    "nom_ciudades.extend(año)\n",
    "print(nom_ciudades[:])"
   ]
  },
  {
   "cell_type": "code",
   "execution_count": 132,
   "metadata": {},
   "outputs": [
    {
     "name": "stdout",
     "output_type": "stream",
     "text": [
      "0\n"
     ]
    }
   ],
   "source": [
    "print(nom_ciudades.index(\"Cúcuta\"))"
   ]
  },
  {
   "cell_type": "code",
   "execution_count": 133,
   "metadata": {},
   "outputs": [
    {
     "name": "stdout",
     "output_type": "stream",
     "text": [
      "['Cúcuta', 'Tabatinga', 'San Cristobal', 'valledupar', 'Leticia', 'Santa Marta', 'cali', 'Cúcuta', 1990, 2006, 2008]\n"
     ]
    }
   ],
   "source": [
    "nom_ciudades.remove(\"Bucaramanga\")\n",
    "print(nom_ciudades)"
   ]
  },
  {
   "cell_type": "code",
   "execution_count": 134,
   "metadata": {},
   "outputs": [
    {
     "name": "stdout",
     "output_type": "stream",
     "text": [
      "2008\n"
     ]
    }
   ],
   "source": [
    "mi_var=nom_ciudades.pop()\n",
    "print(mi_var)"
   ]
  },
  {
   "cell_type": "code",
   "execution_count": 135,
   "metadata": {},
   "outputs": [
    {
     "name": "stdout",
     "output_type": "stream",
     "text": [
      "['Cúcuta', 'Tabatinga', 'San Cristobal', 'valledupar', 'Leticia', 'Santa Marta', 'cali', 'Cúcuta', 1990, 2006, 'Cúcuta', 'Tabatinga', 'San Cristobal', 'valledupar', 'Leticia', 'Santa Marta', 'cali', 'Cúcuta', 1990, 2006, 'Cúcuta', 'Tabatinga', 'San Cristobal', 'valledupar', 'Leticia', 'Santa Marta', 'cali', 'Cúcuta', 1990, 2006, 'Cúcuta', 'Tabatinga', 'San Cristobal', 'valledupar', 'Leticia', 'Santa Marta', 'cali', 'Cúcuta', 1990, 2006]\n"
     ]
    }
   ],
   "source": [
    "print(nom_ciudades *4)"
   ]
  },
  {
   "cell_type": "code",
   "execution_count": 136,
   "metadata": {},
   "outputs": [
    {
     "name": "stdout",
     "output_type": "stream",
     "text": [
      "(11, 12, 13, 14, 15, 16)\n"
     ]
    }
   ],
   "source": [
    "mi_tupla=(1,2,3,4,5,6,7,8,9,10,11,12,13,14,15,16,17,18,19,20)\n",
    "print(mi_tupla[10:16])"
   ]
  },
  {
   "cell_type": "code",
   "execution_count": 137,
   "metadata": {},
   "outputs": [
    {
     "data": {
      "text/plain": [
       "True"
      ]
     },
     "execution_count": 137,
     "metadata": {},
     "output_type": "execute_result"
    }
   ],
   "source": [
    "20 in mi_tupla\n",
    "#30 in mi_tupla"
   ]
  },
  {
   "cell_type": "code",
   "execution_count": 138,
   "metadata": {},
   "outputs": [
    {
     "name": "stdout",
     "output_type": "stream",
     "text": [
      "se agregó París a la lista\n"
     ]
    }
   ],
   "source": [
    "if (\"París\" in nom_ciudades):\n",
    "    print(\"París existe en la lista\")\n",
    "else:\n",
    "    nom_ciudades.append(\"París\")\n",
    "    print(\"se agregó París a la lista\")\n"
   ]
  },
  {
   "cell_type": "code",
   "execution_count": 139,
   "metadata": {},
   "outputs": [
    {
     "name": "stdout",
     "output_type": "stream",
     "text": [
      "2\n",
      "1\n"
     ]
    }
   ],
   "source": [
    "print(nom_ciudades.count(\"Cúcuta\"))\n",
    "print(mi_tupla.count(10))\n"
   ]
  },
  {
   "cell_type": "code",
   "execution_count": 140,
   "metadata": {},
   "outputs": [
    {
     "name": "stdout",
     "output_type": "stream",
     "text": [
      "[1, 2, 3, 4, 5, 6, 7, 8, 9, 10, 11, 12, 13, 14, 15, 16, 17, 18, 19, 20]\n",
      "<class 'list'>\n"
     ]
    }
   ],
   "source": [
    "lista_de_tupla=list(mi_tupla)\n",
    "print(lista_de_tupla)\n",
    "print(type(lista_de_tupla))"
   ]
  },
  {
   "cell_type": "code",
   "execution_count": 141,
   "metadata": {},
   "outputs": [
    {
     "name": "stdout",
     "output_type": "stream",
     "text": [
      "Nombre:  Julio   Edad:  31  Reside en:  Bogotá\n"
     ]
    }
   ],
   "source": [
    "tupla2 =(\"Julio \", 31, \"Bogotá\", \"ingeniero\")\n",
    "nombre, edad, ciudad = tupla2[:3]\n",
    "print(\"Nombre: \", nombre, \" Edad: \", edad, \" Reside en: \", ciudad)"
   ]
  },
  {
   "cell_type": "code",
   "execution_count": 142,
   "metadata": {},
   "outputs": [
    {
     "name": "stdout",
     "output_type": "stream",
     "text": [
      "{'ciudad': ['Cúcuta', 'Tabatinga', 'San Cristobal', 'valledupar', 'Leticia', 'Santa Marta', 'cali', 'Cúcuta', 1990, 2006, 'París'], 'pais': ['colombia', 'venezuela', 'brasil'], 'continente': 'sur america'}\n"
     ]
    }
   ],
   "source": [
    "my_first_dicc ={\n",
    "    'ciudad' : nom_ciudades,\n",
    "    'pais': [\"colombia\", \"venezuela\", \"brasil\"],\n",
    "    \"continente\" : \"sur america\"\n",
    "}\n",
    "print(my_first_dicc)"
   ]
  },
  {
   "cell_type": "code",
   "execution_count": 144,
   "metadata": {},
   "outputs": [
    {
     "name": "stdout",
     "output_type": "stream",
     "text": [
      "dict_keys(['ciudad', 'pais', 'continente'])\n"
     ]
    }
   ],
   "source": [
    "print(my_first_dicc.keys())"
   ]
  },
  {
   "cell_type": "code",
   "execution_count": 151,
   "metadata": {},
   "outputs": [
    {
     "name": "stdout",
     "output_type": "stream",
     "text": [
      "valledupar\n"
     ]
    }
   ],
   "source": [
    "print(my_first_dicc[\"ciudad\"][3])"
   ]
  }
 ],
 "metadata": {
  "kernelspec": {
   "display_name": "Python 3.10.5 64-bit",
   "language": "python",
   "name": "python3"
  },
  "language_info": {
   "codemirror_mode": {
    "name": "ipython",
    "version": 3
   },
   "file_extension": ".py",
   "mimetype": "text/x-python",
   "name": "python",
   "nbconvert_exporter": "python",
   "pygments_lexer": "ipython3",
   "version": "3.10.5"
  },
  "orig_nbformat": 4,
  "vscode": {
   "interpreter": {
    "hash": "369f2c481f4da34e4445cda3fffd2e751bd1c4d706f27375911949ba6bb62e1c"
   }
  }
 },
 "nbformat": 4,
 "nbformat_minor": 2
}
