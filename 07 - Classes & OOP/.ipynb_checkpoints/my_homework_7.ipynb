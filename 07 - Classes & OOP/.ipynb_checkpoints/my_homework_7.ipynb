{
 "cells": [
  {
   "cell_type": "code",
   "execution_count": null,
   "metadata": {},
   "outputs": [],
   "source": [
    "class vehiculo:\n",
    "\n",
    "    def __init__(self,color, tipo, cilindrada):    \n",
    "        self.color = color\n",
    "        self.tipo=tipo\n",
    "        self.cilindrada=cilindrada\n",
    "\n",
    "v1 = vehiculo('rojo','moto',1200)   \n",
    "print(v1.tipo)"
   ]
  },
  {
   "cell_type": "code",
   "execution_count": 1,
   "metadata": {},
   "outputs": [
    {
     "name": "stdout",
     "output_type": "stream",
     "text": [
      "que pasó?\n"
     ]
    }
   ],
   "source": [
    "print(\"que pasó?\")"
   ]
  },
  {
   "cell_type": "code",
   "execution_count": 2,
   "metadata": {},
   "outputs": [
    {
     "name": "stdout",
     "output_type": "stream",
     "text": [
      "acelerando a: 3.0 m/s^2\n",
      "3.0\n",
      "frenando a: -2.5 m/s^2\n",
      "-2.5\n"
     ]
    }
   ],
   "source": [
    "class vehiculo:\n",
    "\n",
    "    def __init__(self,color, tipo, cilindrada):    \n",
    "        self.color = color\n",
    "        self.tipo=tipo\n",
    "        self.cilindrada=cilindrada\n",
    "        self.direccion = 0\n",
    "        self.sentido = \"^\"\n",
    "        self.aceleracion = 0\n",
    "\n",
    "    def acelerar(self,vi,vf,t):\n",
    "        self.aceleracion  =(vf-vi)/t\n",
    "        print(\"acelerando a:\", self.aceleracion , \"m/s^2\")\n",
    "    def frenar(self,vi,t):\n",
    "        self.aceleracion  = -vi/t\n",
    "        print(\"frenando a:\", self.aceleracion , \"m/s^2\")\n",
    "    def doblar(self,lado,grados):\n",
    "        if lado ==\">\":\n",
    "            self.sentido=lado\n",
    "            self.direccion = grados\n",
    "            print(\"nueva dirección:\",self.direccion, \"hacia -->\")\n",
    "        elif lado ==\"<\":\n",
    "            self.sentido=lado\n",
    "            self.direccion = grados\n",
    "            print(\"nueva dirección:\",self.direccion, \"hacia <--\")\n",
    "    def estado(self):\n",
    "        print(\"el vehiculo se encuentra acelerando a:\", self.aceleracion , \"m/s^2 en dirección\", self.direccion ,\"grados hacia \", self.sentido )\n",
    "    def det (self):\n",
    "        print(\"el vehiculo es de tipo\", self.tipo , 'de color' , self.color , 'y cilindrada ', self.cilindrada )\n",
    "\n",
    "\n",
    "v1 = vehiculo('rojo','moto',1200)  \n",
    "\n",
    "\n",
    "v1.acelerar(1,10,3)\n",
    "print(v1.aceleracion)\n",
    "v1.frenar(10,4)\n",
    "print(v1.aceleracion)"
   ]
  },
  {
   "cell_type": "code",
   "execution_count": null,
   "metadata": {},
   "outputs": [],
   "source": [
    "v_moto=vehiculo('rojo','moto',200)\n",
    "v_carro=vehiculo('azul','carro',1200)\n",
    "v_camion=vehiculo('blanco','camion',2500)\n",
    "\n",
    "v_moto.acelerar(0,10,2)\n",
    "v_carro.frenar(20,4)\n",
    "v_camion.doblar(\">\",20)\n",
    "print(\"aceleración de la moto =\",v_moto.aceleracion)\n",
    "print(\"aceleración del carro =\", v_carro.aceleracion)\n",
    "print(\"dirección y sentido del camión :\", v_camion.direccion,v_camion.sentido)"
   ]
  },
  {
   "cell_type": "code",
   "execution_count": null,
   "metadata": {},
   "outputs": [],
   "source": [
    "v_moto.estado()\n",
    "v_moto.det()\n",
    "v_carro.estado()\n",
    "v_carro.det()\n",
    "v_camion.estado()\n",
    "v_camion.det()"
   ]
  },
  {
   "cell_type": "code",
   "execution_count": null,
   "metadata": {},
   "outputs": [],
   "source": [
    "#import sys\n",
    "#sys.path.append('c:\\\\Users\\\\jcgut\\\\Desktop\\\\Python-Prep\\\\06 - Funciones\\\\.ipynb_checkpoints')\n",
    "#print(sys.path)\n",
    "\n",
    "\n",
    "  #  from my_homework_6 import *\n",
    "\n",
    "\n",
    "    \n"
   ]
  },
  {
   "cell_type": "code",
   "execution_count": null,
   "metadata": {},
   "outputs": [],
   "source": [
    "print(factorial(4))\n",
    "s=[2,4,6,8,1,3,5,7,9,1,2,3,9,8,7,3,7,3,5]\n",
    "repetido(s,'max')\n",
    "print(solo_primos(s))\n",
    "a=983\n",
    "print(a, \"es primo? \", esprimo(983))\n",
    "conver_temp(a,'F','C')\n"
   ]
  },
  {
   "cell_type": "code",
   "execution_count": null,
   "metadata": {},
   "outputs": [],
   "source": [
    "'''\n",
    "class herramientas_clase6():\n",
    "    def __init__(self):\n",
    "        pass\n",
    "\n",
    "    def esprimo(self,numero=1):\n",
    "        '''\n",
    "        Determina si numero es primo o no\n",
    "        '''\n",
    "        for n in range(2,(numero//2)+1):\n",
    "            if (numero%n==0):\n",
    "                return False\n",
    "        return True\n",
    "\n",
    "#-----------------------------------------------------------------------------------------------\n",
    "\n",
    "    def solo_primos(self,lisloc):\n",
    "        soloprimos=[]\n",
    "        for c in lisloc: \n",
    "            if (esprimo(c)):\n",
    "                soloprimos.append(c)\n",
    "        return soloprimos\n",
    "\n",
    "#-----------------------------------------------------------------------------------------------\n",
    "\n",
    "    def repetido(self,lisloc, extremo):\n",
    "  \n",
    "        lis_repet=[]\n",
    "    \n",
    "        for x, i in enumerate(lisloc):\n",
    "            lis_repet.append(lisloc.count(i))\n",
    "        if extremo==\"max\":\n",
    "            max_repet=max(lis_repet)\n",
    "            pos_max=lis_repet.index(max_repet)\n",
    "            print( lisloc[pos_max],\"aparece\", max_repet,\"veces\")\n",
    "        elif extremo==\"min\":\n",
    "            min_repet=min(lis_repet)\n",
    "            pos_min=lis_repet.index(min_repet)\n",
    "            print( lisloc[pos_min],\"aparece\", min_repet,\"veces\")\n",
    "        else:\n",
    "            print(\"la opcion ingresada no es valida, vuelva a intentarlo\")\n",
    "\n",
    "    \n",
    "#-----------------------------------------------------------------------------------------------\n",
    "\n",
    "    def conver_temp(self, valor,origen, destino):\n",
    "        Resultado=float\n",
    "        if(origen==\"C\"):\n",
    "            if(destino==\"F\"):\n",
    "                Resultado= (valor * 9/5 ) + 32\n",
    "            elif(destino==\"K\"):\n",
    "                Resultado= valor + 273.15\n",
    "            else:\n",
    "                print(\"parametro destino incorrecto, vuelva a intentarlo\")\n",
    "        elif (origen==\"F\"):\n",
    "            if(destino==\"C\"):\n",
    "                Resultado= (valor - 32 ) * 5/9\n",
    "            elif(destino==\"K\"):\n",
    "                Resultado= ((valor - 32 ) * 5/9) + 273.15\n",
    "            else:\n",
    "                print(\"parametro destino incorrecto, vuelva a intentarlo\")\n",
    "        elif (origen==\"K\"):\n",
    "            if(destino==\"F\"):\n",
    "                Resultado= ((valor-273.15) * 9/5 ) + 32\n",
    "            elif(destino==\"C\"):\n",
    "                Resultado= valor - 273.15\n",
    "            else:\n",
    "                print(\"parametro destino incorrecto, vuelva a intentarlo\")\n",
    "        else:\n",
    "            print(\"parametro origen, vuelva a intentarlo\")    \n",
    "\n",
    "        return Resultado\n",
    "\n",
    "#-----------------------------------------------------------------------------------------------\n",
    "\n",
    "    def factorial(self, num):\n",
    "        if num==1:\n",
    "            return num\n",
    "        elif(type(num)==int and num>1):\n",
    "            num = num * factorial(num-1)\n",
    "            return num\n",
    "        else:\n",
    "            print(\"el numero ingresado debe ser entero y positivo\")\n",
    "'''\n"
   ]
  },
  {
   "cell_type": "code",
   "execution_count": null,
   "metadata": {},
   "outputs": [],
   "source": [
    "instancia_prueba=herramientas_clase6()\n",
    "\n"
   ]
  },
  {
   "cell_type": "code",
   "execution_count": null,
   "metadata": {},
   "outputs": [],
   "source": [
    "print(instancia_prueba.factorial(5))\n",
    "print(instancia_prueba.esprimo(61))\n",
    "print(instancia_prueba.conver_temp(18,'C','F'))"
   ]
  },
  {
   "cell_type": "code",
   "execution_count": null,
   "metadata": {},
   "outputs": [],
   "source": [
    "'''\n",
    "class herramientas_clase6:\n",
    "    def __init__(self,lista_int):\n",
    "        self.lista = lista_int\n",
    "\n",
    "    def es_primo(self):\n",
    "        list_bool=[]\n",
    "        for i in self.lista:\n",
    "            list_bool.append(self.b_esprimo(i))\n",
    "        return list(zip(self.lista,list_bool))\n",
    "\n",
    "    def conver_temp(self,origen,destino):\n",
    "        list_new_temp=[]\n",
    "        for i in self.lista:\n",
    "            list_new_temp.append(self.b_conver_temp(i,origen,destino))\n",
    "        return list(zip(self.lista,list_new_temp))\n",
    "        \n",
    "    def factorial(self):\n",
    "        list_facto=[]\n",
    "        for i in self.lista:\n",
    "            list_facto.append(self.b_factorial(i))\n",
    "        return list(zip(self.lista,list_facto))\n",
    "    \n",
    "\n",
    "#----------------------------------------------------------------------------------------------\n",
    "#----------------------------------------------------------------------------------------------\n",
    "    \n",
    "    def b_esprimo(self,numero=1):\n",
    "        '''\n",
    "        Determina si numero es primo o no\n",
    "        '''\n",
    "        for n in range(2,(numero//2)+1):\n",
    "            if (numero%n==0):\n",
    "                return False\n",
    "        return True\n",
    "\n",
    "#-----------------------------------------------------------------------------------------------\n",
    "\n",
    "    def repetido(self,lisloc, extremo):\n",
    "  \n",
    "        lis_repet=[]\n",
    "    \n",
    "        for x, i in enumerate(lisloc):\n",
    "            lis_repet.append(lisloc.count(i))\n",
    "        if extremo==\"max\":\n",
    "            max_repet=max(lis_repet)\n",
    "            pos_max=lis_repet.index(max_repet)\n",
    "            print( lisloc[pos_max],\"aparece\", max_repet,\"veces\")\n",
    "        elif extremo==\"min\":\n",
    "            min_repet=min(lis_repet)\n",
    "            pos_min=lis_repet.index(min_repet)\n",
    "            print( lisloc[pos_min],\"aparece\", min_repet,\"veces\")\n",
    "        else:\n",
    "            print(\"la opcion ingresada no es valida, vuelva a intentarlo\")\n",
    "\n",
    "    \n",
    "#-----------------------------------------------------------------------------------------------\n",
    "\n",
    "    def b_conver_temp(self, valor,origen, destino):\n",
    "        Resultado=float\n",
    "        if(origen==\"C\"):\n",
    "            if(destino==\"F\"):\n",
    "                Resultado= (valor * 9/5 ) + 32\n",
    "            elif(destino==\"K\"):\n",
    "                Resultado= valor + 273.15\n",
    "            else:\n",
    "                print(\"parametro destino incorrecto, vuelva a intentarlo\")\n",
    "        elif (origen==\"F\"):\n",
    "            if(destino==\"C\"):\n",
    "                Resultado= (valor - 32 ) * 5/9\n",
    "            elif(destino==\"K\"):\n",
    "                Resultado= ((valor - 32 ) * 5/9) + 273.15\n",
    "            else:\n",
    "                print(\"parametro destino incorrecto, vuelva a intentarlo\")\n",
    "        elif (origen==\"K\"):\n",
    "            if(destino==\"F\"):\n",
    "                Resultado= ((valor-273.15) * 9/5 ) + 32\n",
    "            elif(destino==\"C\"):\n",
    "                Resultado= valor - 273.15\n",
    "            else:\n",
    "                print(\"parametro destino incorrecto, vuelva a intentarlo\")\n",
    "        else:\n",
    "            print(\"parametro origen, vuelva a intentarlo\")    \n",
    "\n",
    "        return Resultado\n",
    "\n",
    "#-----------------------------------------------------------------------------------------------\n",
    "\n",
    "    def b_factorial(self, num):\n",
    "        if num==1:\n",
    "            return num\n",
    "        elif(type(num)==int and num>1):\n",
    "            num = num * factorial(num-1)\n",
    "            return num\n",
    "        else:\n",
    "            print(\"el numero ingresado debe ser entero y positivo\")\n",
    "'''\n",
    "            "
   ]
  },
  {
   "cell_type": "code",
   "execution_count": 135,
   "metadata": {},
   "outputs": [],
   "source": [
    "instancia_prueba2 = herramientas_clase6([1,1,2,5,8,8,9,11,15,16,16,16,18,20])\n"
   ]
  },
  {
   "cell_type": "code",
   "execution_count": 136,
   "metadata": {},
   "outputs": [
    {
     "name": "stdout",
     "output_type": "stream",
     "text": [
      "[(1, True), (1, True), (2, True), (5, True), (8, False), (8, False), (9, False), (11, True), (15, False), (16, False), (16, False), (16, False), (18, False), (21, False)]\n"
     ]
    }
   ],
   "source": [
    "print(instancia_prueba2.es_primo())"
   ]
  },
  {
   "cell_type": "code",
   "execution_count": 137,
   "metadata": {},
   "outputs": [
    {
     "name": "stdout",
     "output_type": "stream",
     "text": [
      "[(1, 33.8), (1, 33.8), (2, 35.6), (5, 41.0), (8, 46.4), (8, 46.4), (9, 48.2), (11, 51.8), (15, 59.0), (16, 60.8), (16, 60.8), (16, 60.8), (18, 64.4), (21, 69.8)]\n"
     ]
    }
   ],
   "source": [
    "print(instancia_prueba2.conver_temp('C','F'))"
   ]
  },
  {
   "cell_type": "code",
   "execution_count": 138,
   "metadata": {},
   "outputs": [
    {
     "name": "stdout",
     "output_type": "stream",
     "text": [
      "[(1, 1), (1, 1), (2, 2), (5, 120), (8, 40320), (8, 40320), (9, 362880), (11, 39916800), (15, 1307674368000), (16, 20922789888000), (16, 20922789888000), (16, 20922789888000), (18, 6402373705728000), (21, 51090942171709440000)]\n"
     ]
    }
   ],
   "source": [
    "print(instancia_prueba2.factorial())\n"
   ]
  },
  {
   "cell_type": "code",
   "execution_count": null,
   "metadata": {},
   "outputs": [],
   "source": [
    "''' \n",
    "el ultimo punto se realizó en el archivo prueba_import_my_herramientas.ipynb dado que \n",
    "la clase ya se encontraba en el directorio de este libro y no sabia que al cerrar y abrir\n",
    "VSC se borran los modulos del directorio\n",
    "'''"
   ]
  }
 ],
 "metadata": {
  "kernelspec": {
   "display_name": "Python 3.10.6 64-bit",
   "language": "python",
   "name": "python3"
  },
  "language_info": {
   "codemirror_mode": {
    "name": "ipython",
    "version": 3
   },
   "file_extension": ".py",
   "mimetype": "text/x-python",
   "name": "python",
   "nbconvert_exporter": "python",
   "pygments_lexer": "ipython3",
   "version": "3.10.6"
  },
  "orig_nbformat": 4,
  "vscode": {
   "interpreter": {
    "hash": "828c1455415b8d49af9924e48c46e7aa2ab0d8dbb5ba25d5a1595b045d45fe8e"
   }
  }
 },
 "nbformat": 4,
 "nbformat_minor": 2
}
