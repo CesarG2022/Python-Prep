{
 "cells": [
  {
   "cell_type": "code",
   "execution_count": 63,
   "metadata": {},
   "outputs": [
    {
     "name": "stdout",
     "output_type": "stream",
     "text": [
      "13  es primo=  True\n"
     ]
    }
   ],
   "source": [
    "def esprimo(numero=1):\n",
    "    '''\n",
    "    Determina si numero es primo o no\n",
    "    '''\n",
    "\n",
    "    for n in range(2,(numero//2)+1):\n",
    "        if (numero%n==0):\n",
    "            return False\n",
    "    return True\n",
    "\n",
    "a=int(input(\"introduce un numero para saber si es primo\"))\n",
    "print (a,\" es primo= \",esprimo(a))\n",
    "\n"
   ]
  },
  {
   "cell_type": "code",
   "execution_count": 66,
   "metadata": {},
   "outputs": [
    {
     "data": {
      "text/plain": [
       "9"
      ]
     },
     "execution_count": 66,
     "metadata": {},
     "output_type": "execute_result"
    }
   ],
   "source": [
    "nom_func = lambda x , y : x**y\n",
    "nom_func(3 , 2)"
   ]
  },
  {
   "cell_type": "code",
   "execution_count": 68,
   "metadata": {},
   "outputs": [
    {
     "name": "stdout",
     "output_type": "stream",
     "text": [
      "[3, 7, 11]\n"
     ]
    }
   ],
   "source": [
    "def solo_primos(lisloc):\n",
    "    soloprimos=[]\n",
    "    for c in lisloc: \n",
    "        if (esprimo(c)):\n",
    "            soloprimos.append(c)\n",
    "    return soloprimos\n",
    "\n",
    "mi_lista=[3, 4,6,7,9,11]\n",
    "\n",
    "print(solo_primos(mi_lista))\n"
   ]
  },
  {
   "cell_type": "code",
   "execution_count": 105,
   "metadata": {},
   "outputs": [
    {
     "name": "stdout",
     "output_type": "stream",
     "text": [
      "2 aparece 5 veces\n"
     ]
    }
   ],
   "source": [
    "def mas_repetido(lisloc):\n",
    "    '''\n",
    "    lis_repet=[]\n",
    "    pos_mayor=0\n",
    "    for x, n in enumerate(lisloc):\n",
    "        repeticiones=-1\n",
    "        for i in lisloc :\n",
    "            if n==i:\n",
    "                repeticiones+=1\n",
    "        lis_repet.append(repeticiones)\n",
    "        if x==0 : \n",
    "            pos_mayor=x\n",
    "        elif lis_repet[x]>lis_repet[pos_mayor]:\n",
    "            pos_mayor=x\n",
    "    print( lisloc[pos_mayor],\"aparece\", lis_repet[pos_mayor]+1,\"veces\")\n",
    "\n",
    "listaprueba=[2,3,4,2,5,3,6,9,3,2,6,2,1,5,2,7]\n",
    "mas_repetido(listaprueba)\n",
    "    '''\n",
    "    lis_repet=[]\n",
    "    pos_mayor=0\n",
    "    for x, i in enumerate(lisloc):\n",
    "        lis_repet.append(lisloc.count(i))\n",
    "        if x==0 : \n",
    "            pos_mayor=x\n",
    "        elif lis_repet[x]>lis_repet[pos_mayor]:\n",
    "            pos_mayor=x\n",
    "    print( lisloc[pos_mayor],\"aparece\", lis_repet[pos_mayor],\"veces\")\n",
    "\n",
    "listaprueba=[2,3,4,2,5,3,6,9,3,2,6,2,1,5,2,7,3,3]\n",
    "mas_repetido(listaprueba)"
   ]
  },
  {
   "cell_type": "code",
   "execution_count": 107,
   "metadata": {},
   "outputs": [
    {
     "name": "stdout",
     "output_type": "stream",
     "text": [
      "2 aparece 5 veces\n"
     ]
    }
   ],
   "source": [
    "def repetido(lisloc, extremo):\n",
    "  \n",
    "    lis_repet=[]\n",
    "    \n",
    "    for x, i in enumerate(lisloc):\n",
    "        lis_repet.append(lisloc.count(i))\n",
    "    if extremo==\"max\":\n",
    "        max_repet=max(lis_repet)\n",
    "        pos_max=lis_repet.index(max_repet)\n",
    "        print( lisloc[pos_max],\"aparece\", max_repet,\"veces\")\n",
    "    elif extremo==\"min\":\n",
    "        min_repet=min(lis_repet)\n",
    "        pos_min=lis_repet.index(min_repet)\n",
    "        print( lisloc[pos_min],\"aparece\", min_repet,\"veces\")\n",
    "    else:\n",
    "        print(\"la opcion ingresada no es valida, vuelva a intentarlo\")\n",
    "\n",
    "    \n",
    "\n",
    "listaprueba=[2,3,4,2,5,3,6,9,3,2,6,2,1,5,2,7,7,3,9,1]\n",
    "repetido(listaprueba,input(\"max o min?\"))"
   ]
  },
  {
   "cell_type": "code",
   "execution_count": 138,
   "metadata": {},
   "outputs": [
    {
     "data": {
      "text/plain": [
       "50.0"
      ]
     },
     "execution_count": 138,
     "metadata": {},
     "output_type": "execute_result"
    }
   ],
   "source": [
    "def conver_temp(valor,origen, destino):\n",
    "    Resultado=float\n",
    "    if(origen==\"C\"):\n",
    "        if(destino==\"F\"):\n",
    "            Resultado= (valor * 9/5 ) + 32\n",
    "        elif(destino==\"K\"):\n",
    "            Resultado= valor + 273.15\n",
    "        else:\n",
    "            print(\"parametro destino incorrecto, vuelva a intentarlo\")\n",
    "    elif (origen==\"F\"):\n",
    "        if(destino==\"C\"):\n",
    "            Resultado= (valor - 32 ) * 5/9\n",
    "        elif(destino==\"K\"):\n",
    "            Resultado= ((valor - 32 ) * 5/9) + 273.15\n",
    "        else:\n",
    "            print(\"parametro destino incorrecto, vuelva a intentarlo\")\n",
    "    elif (origen==\"K\"):\n",
    "        if(destino==\"F\"):\n",
    "            Resultado= ((valor-273.15) * 9/5 ) + 32\n",
    "        elif(destino==\"C\"):\n",
    "            Resultado= valor - 273.15\n",
    "        else:\n",
    "            print(\"parametro destino incorrecto, vuelva a intentarlo\")\n",
    "    else:\n",
    "        print(\"parametro origen, vuelva a intentarlo\")    \n",
    "\n",
    "    return Resultado\n",
    "\n",
    "conver_temp(10,\"C\",\"F\")\n"
   ]
  },
  {
   "cell_type": "code",
   "execution_count": 139,
   "metadata": {},
   "outputs": [
    {
     "name": "stdout",
     "output_type": "stream",
     "text": [
      "1 grado C a grado F es: 33.8\n",
      "1 grado C a grado K es: 274.15\n",
      "1 grado F a grado C es: -17.22222222222222\n",
      "1 grado F a grado K es: 255.92777777777775\n",
      "1 grado K a grado C es: -272.15\n",
      "1 grado K a grado F es: -457.87\n"
     ]
    }
   ],
   "source": [
    "lis_tem=['C','F','K']\n",
    "for i in lis_tem:\n",
    "    for j in lis_tem:\n",
    "        if(i!=j):\n",
    "            print('1 grado', i, 'a grado',j, 'es:', conver_temp(1,i,j) )"
   ]
  },
  {
   "cell_type": "code",
   "execution_count": 13,
   "metadata": {},
   "outputs": [
    {
     "name": "stdout",
     "output_type": "stream",
     "text": [
      "el numero ingresado debe ser entero y positivo\n"
     ]
    }
   ],
   "source": [
    "def factorial(num):\n",
    "    if num==1:\n",
    "        return num\n",
    "    elif(type(num)==int and num>1):\n",
    "        num = num * factorial(num-1)\n",
    "        return num\n",
    "    else:\n",
    "        print(\"el numero ingresado debe ser entero y positivo\")\n",
    "\n",
    "factorial(-2)"
   ]
  }
 ],
 "metadata": {
  "kernelspec": {
   "display_name": "Python 3.10.5 64-bit",
   "language": "python",
   "name": "python3"
  },
  "language_info": {
   "codemirror_mode": {
    "name": "ipython",
    "version": 3
   },
   "file_extension": ".py",
   "mimetype": "text/x-python",
   "name": "python",
   "nbconvert_exporter": "python",
   "pygments_lexer": "ipython3",
   "version": "3.10.5"
  },
  "orig_nbformat": 4,
  "vscode": {
   "interpreter": {
    "hash": "369f2c481f4da34e4445cda3fffd2e751bd1c4d706f27375911949ba6bb62e1c"
   }
  }
 },
 "nbformat": 4,
 "nbformat_minor": 2
}
