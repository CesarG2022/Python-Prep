{
 "cells": [
  {
   "cell_type": "code",
   "execution_count": 2,
   "metadata": {},
   "outputs": [
    {
     "name": "stdout",
     "output_type": "stream",
     "text": [
      "es menor a cero\n"
     ]
    }
   ],
   "source": [
    "var_int=-5\n",
    "if (var_int<0):\n",
    "    print('es menor a cero')\n",
    "elif (var_int>0):\n",
    "    print('es mayor a cero')    "
   ]
  },
  {
   "cell_type": "code",
   "execution_count": 4,
   "metadata": {},
   "outputs": [
    {
     "name": "stdout",
     "output_type": "stream",
     "text": [
      "son del mismo tipo\n"
     ]
    }
   ],
   "source": [
    "var1=\"hola\"\n",
    "var2=\"3.4\"\n",
    "if (type(var1)==type(var2)):\n",
    "    print('son del mismo tipo')\n",
    "else:\n",
    "    print('son de diferente tipo')\n"
   ]
  },
  {
   "cell_type": "code",
   "execution_count": 6,
   "metadata": {},
   "outputs": [
    {
     "name": "stdout",
     "output_type": "stream",
     "text": [
      "1 es impar\n",
      "2 es par\n",
      "3 es impar\n",
      "4 es par\n",
      "5 es impar\n",
      "6 es par\n",
      "7 es impar\n",
      "8 es par\n",
      "9 es impar\n",
      "10 es par\n",
      "11 es impar\n",
      "12 es par\n",
      "13 es impar\n",
      "14 es par\n",
      "15 es impar\n",
      "16 es par\n",
      "17 es impar\n",
      "18 es par\n",
      "19 es impar\n",
      "20 es par\n"
     ]
    }
   ],
   "source": [
    "for n in range(1,21):\n",
    "    if (n%2==0):\n",
    "        print(str(n) +' es par')\n",
    "    else:\n",
    "        print(str(n) + ' es impar')"
   ]
  },
  {
   "cell_type": "code",
   "execution_count": 7,
   "metadata": {},
   "outputs": [
    {
     "name": "stdout",
     "output_type": "stream",
     "text": [
      "0\n",
      "1\n",
      "8\n",
      "27\n",
      "64\n",
      "125\n"
     ]
    }
   ],
   "source": [
    "for n in range(0,6):\n",
    "    print(n**3)"
   ]
  },
  {
   "cell_type": "code",
   "execution_count": 10,
   "metadata": {},
   "outputs": [
    {
     "name": "stdout",
     "output_type": "stream",
     "text": [
      "este es el ciclo 1\n",
      "este es el ciclo 2\n",
      "este es el ciclo 3\n",
      "este es el ciclo 4\n",
      "este es el ciclo 5\n",
      "este es el ciclo 6\n",
      "este es el ciclo 7\n",
      "este es el ciclo 8\n"
     ]
    }
   ],
   "source": [
    "ciclos=8\n",
    "for n in range(ciclos):\n",
    "    print('este es el ciclo ' + str(n+1))"
   ]
  },
  {
   "cell_type": "code",
   "execution_count": 25,
   "metadata": {},
   "outputs": [
    {
     "name": "stdout",
     "output_type": "stream",
     "text": [
      "el numero debe ser entero\n"
     ]
    }
   ],
   "source": [
    "n=5.3\n",
    "a=n\n",
    "factorial=n\n",
    "if (type(n)==int):\n",
    "    if (n>0):\n",
    "        while (n>2):\n",
    "            n=n-1\n",
    "            factorial=factorial*n\n",
    "        print('el factorial de '+ str(a) + ' es ' + str(factorial))\n",
    "    else:\n",
    "        print('el numero dado debe ser mayor a 0')\n",
    "else:\n",
    "    print('el numero debe ser entero')"
   ]
  },
  {
   "cell_type": "code",
   "execution_count": 26,
   "metadata": {},
   "outputs": [
    {
     "name": "stdout",
     "output_type": "stream",
     "text": [
      "1 1\n",
      "1 2\n",
      "1 3\n",
      "1 4\n",
      "2 1\n",
      "2 2\n",
      "2 3\n",
      "2 4\n",
      "3 1\n",
      "3 2\n",
      "3 3\n",
      "3 4\n"
     ]
    }
   ],
   "source": [
    "x=1\n",
    "while (x<=3):\n",
    "    for n in range(4):\n",
    "        print(x,n+1)\n",
    "    x+=1"
   ]
  },
  {
   "cell_type": "code",
   "execution_count": null,
   "metadata": {},
   "outputs": [],
   "source": []
  },
  {
   "cell_type": "code",
   "execution_count": 33,
   "metadata": {},
   "outputs": [
    {
     "name": "stdout",
     "output_type": "stream",
     "text": [
      "1 1\n",
      "1 2\n",
      "1 3\n",
      "1 4\n",
      "2 1\n",
      "2 2\n",
      "2 3\n",
      "2 4\n",
      "3 1\n",
      "3 2\n",
      "3 3\n",
      "3 4\n"
     ]
    }
   ],
   "source": [
    "\n",
    "for m in range(1,4):\n",
    "    y=1\n",
    "    while(y<=4):   \n",
    "        print(m,y)\n",
    "        y+=1\n",
    "    "
   ]
  },
  {
   "cell_type": "code",
   "execution_count": 53,
   "metadata": {},
   "outputs": [
    {
     "name": "stdout",
     "output_type": "stream",
     "text": [
      "2\n",
      "3\n",
      "5\n",
      "7\n",
      "11\n",
      "13\n",
      "17\n",
      "19\n",
      "23\n",
      "29\n",
      "31\n",
      "37\n",
      "41\n",
      "43\n",
      "47\n",
      "53\n",
      "59\n",
      "61\n",
      "67\n",
      "71\n",
      "73\n",
      "79\n",
      "83\n",
      "89\n",
      "97\n",
      "ciclos sin break: 2401\n"
     ]
    }
   ],
   "source": [
    "ciclos_sin_break=0\n",
    "max=100\n",
    "m=2\n",
    "while (m<=max):\n",
    "    es_primo=True\n",
    "    for n in range(2,(m//2)+1):\n",
    "        ciclos_sin_break+=1\n",
    "        if (m%n==0):\n",
    "            es_primo=False\n",
    "            \n",
    "    if (es_primo):\n",
    "        print(m)\n",
    "    m+=1\n",
    "print('ciclos sin break: ' + str(ciclos_sin_break))\n",
    "\n",
    "   "
   ]
  },
  {
   "cell_type": "code",
   "execution_count": 54,
   "metadata": {},
   "outputs": [
    {
     "name": "stdout",
     "output_type": "stream",
     "text": [
      "2\n",
      "3\n",
      "5\n",
      "7\n",
      "11\n",
      "13\n",
      "17\n",
      "19\n",
      "23\n",
      "29\n",
      "31\n",
      "37\n",
      "41\n",
      "43\n",
      "47\n",
      "53\n",
      "59\n",
      "ciclos sin break: 2401\n",
      "ciclos con break: 260\n",
      "con break se optimizó a un: 10.828821324448146% de los ciclos sin break\n"
     ]
    }
   ],
   "source": [
    "ciclos_con_break=0\n",
    "max=60\n",
    "m=2\n",
    "while (m<=max):\n",
    "    es_primo=True\n",
    "    for n in range(2,(m//2)+1):\n",
    "        ciclos_con_break+=1\n",
    "        if (m%n==0):\n",
    "            es_primo=False\n",
    "            break\n",
    "    if (es_primo):\n",
    "        print(m)\n",
    "    m+=1\n",
    "print('ciclos sin break: ' + str(ciclos_sin_break))\n",
    "print('ciclos con break: ' + str(ciclos_con_break))\n",
    "print('con break se optimizó a un: ' + str(100*ciclos_con_break/ciclos_sin_break) + \"% de los ciclos sin break\")\n"
   ]
  },
  {
   "cell_type": "code",
   "execution_count": 55,
   "metadata": {},
   "outputs": [
    {
     "name": "stdout",
     "output_type": "stream",
     "text": [
      "108\n",
      "120\n",
      "132\n",
      "144\n",
      "156\n",
      "168\n",
      "180\n",
      "192\n",
      "204\n",
      "216\n",
      "228\n",
      "240\n",
      "252\n",
      "264\n",
      "276\n",
      "288\n",
      "300\n"
     ]
    }
   ],
   "source": [
    "m=99\n",
    "while(m<=300):\n",
    "    m+=1\n",
    "    if(m%12!=0):\n",
    "        continue\n",
    "    print(m)\n",
    "        "
   ]
  },
  {
   "cell_type": "code",
   "execution_count": 15,
   "metadata": {},
   "outputs": [
    {
     "name": "stdout",
     "output_type": "stream",
     "text": [
      "2\n",
      "3\n",
      "5\n",
      "7\n",
      "11\n",
      "13\n",
      "17\n",
      "19\n",
      "23\n",
      "29\n",
      "31\n",
      "finalizó el proceso\n"
     ]
    }
   ],
   "source": [
    "\n",
    "m=2\n",
    "sigue=\"si\"\n",
    "while (sigue==\"si\"):\n",
    "    es_primo=True\n",
    "    for n in range(2,(m//2)+1):\n",
    "        if (m%n==0):\n",
    "            es_primo=False\n",
    "            break\n",
    "    if (es_primo):\n",
    "        print(m)\n",
    "        sigue=input('¿desea hallar el siguiente? escriba si o no')\n",
    "    if (sigue==\"si\"):\n",
    "        m+=1\n",
    "    elif(sigue==\"no\"):\n",
    "        print(\"finalizó el proceso\")\n",
    "        break\n",
    "    else:\n",
    "        print(\"la palabra introducida es invalida, aprenda a seguir instrucciones y/o teclear, se finalizó el proceso\")\n",
    "        break\n",
    "\n"
   ]
  },
  {
   "cell_type": "markdown",
   "metadata": {},
   "source": []
  },
  {
   "cell_type": "code",
   "execution_count": 17,
   "metadata": {},
   "outputs": [
    {
     "name": "stdout",
     "output_type": "stream",
     "text": [
      "102\n"
     ]
    }
   ],
   "source": [
    "n=100\n",
    "while(n<300):\n",
    "    if(n%6==0):\n",
    "        print(n)\n",
    "        break\n",
    "    n+=1\n"
   ]
  }
 ],
 "metadata": {
  "kernelspec": {
   "display_name": "Python 3.10.5 64-bit",
   "language": "python",
   "name": "python3"
  },
  "language_info": {
   "codemirror_mode": {
    "name": "ipython",
    "version": 3
   },
   "file_extension": ".py",
   "mimetype": "text/x-python",
   "name": "python",
   "nbconvert_exporter": "python",
   "pygments_lexer": "ipython3",
   "version": "3.10.5"
  },
  "orig_nbformat": 4,
  "vscode": {
   "interpreter": {
    "hash": "369f2c481f4da34e4445cda3fffd2e751bd1c4d706f27375911949ba6bb62e1c"
   }
  }
 },
 "nbformat": 4,
 "nbformat_minor": 2
}
